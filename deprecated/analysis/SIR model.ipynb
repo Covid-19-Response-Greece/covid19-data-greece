{
 "cells": [
  {
   "cell_type": "code",
   "execution_count": null,
   "metadata": {},
   "outputs": [],
   "source": [
    "import math\n",
    "import numpy as np\n",
    "import matplotlib.pyplot as plt\n",
    "from sklearn.linear_model import Ridge\n",
    "from sklearn.model_selection import GridSearchCV\n",
    "import pandas as pd"
   ]
  },
  {
   "cell_type": "markdown",
   "metadata": {},
   "source": [
    "## Extract and Transform the data"
   ]
  },
  {
   "cell_type": "code",
   "execution_count": null,
   "metadata": {
    "scrolled": true
   },
   "outputs": [],
   "source": [
    "def transform_countries_df(raw):\n",
    "    # This function transforms the raw data to a Dataframe with dates as \n",
    "    # rows and countries as columns\n",
    "    raw_df = raw.rename(columns={\"Country/Region\": \"country\"})\n",
    "    raw_df.drop(columns=[\"Lat\", \"Long\"], inplace=True)\n",
    "    \n",
    "    # Pivot table for countries as columns and date as index\n",
    "    final_df = pd.pivot_table(raw_df, columns=[\"country\"])\n",
    "    final_df = final_df.reset_index()\n",
    "    final_df = final_df.rename(columns={\"index\": \"date\"})\n",
    "    final_df.date = pd.to_datetime(final_df.date)\n",
    "    final_df = final_df.sort_values(\"date\").reset_index(drop=True)\n",
    "\n",
    "    return final_df\n",
    "\n",
    "# Extract\n",
    "url = \"https://raw.githubusercontent.com/Covid-19-Response-Greece/covid19-data-greece\\\n",
    "/master/data/all_countries/JohnsHopkinsCSSE/time_series_covid19_\"\n",
    "raw_conf = pd.read_csv(url + \"confirmed_global.csv\")\n",
    "raw_death = pd.read_csv(url + \"deaths_global.csv\")\n",
    "raw_recov = pd.read_csv(url + \"recovered_global.csv\")\n",
    "\n",
    "# Transform\n",
    "confirmed = transform_countries_df(raw_conf)\n",
    "deaths = transform_countries_df(raw_death)\n",
    "recov = transform_countries_df(raw_recov)"
   ]
  },
  {
   "cell_type": "markdown",
   "metadata": {},
   "source": [
    "### Distribution array\n",
    "\n",
    "This is the array used to distribute the new confirmed cases as recovered cases in the future"
   ]
  },
  {
   "cell_type": "code",
   "execution_count": null,
   "metadata": {},
   "outputs": [],
   "source": [
    "pois = np.random.poisson(lam=5, size=10000)\n",
    "distr_array = np.bincount(pois)/10000\n",
    "distr_array = distr_array[::-1]\n",
    "distr_array[0] = 0\n",
    "distr_array = np.concatenate([np.array([0,0,0,0,0]), distr_array])\n",
    "\n",
    "\n",
    "plt.bar(x=np.arange(len(distr_array)), height=distr_array)\n",
    "plt.show()"
   ]
  },
  {
   "cell_type": "code",
   "execution_count": null,
   "metadata": {},
   "outputs": [],
   "source": [
    "def create_data(country, start, end, distribution_array, perc):\n",
    "    # This function transforms the data of the selected country in a format \n",
    "    # ready to be used by the SIR model.\n",
    "    \n",
    "    X_cml = np.array(confirmed[country]).astype(\"int\")\n",
    "    death = np.array(deaths[country]).astype(\"int\")\n",
    "    recovered = np.array(recov[country])\n",
    "    \n",
    "    # Slice the data. A reasonable starting and ending index should be used\n",
    "    X_cml = X_cml[start:end]\n",
    "    death = death[start:end]\n",
    "    recovered = recovered[start:end]\n",
    "    \n",
    "    # Create new recovered data by distributing the new confirmed cases of each day \n",
    "    # as recovered cases of the coming days, using a pre-defined distribution array.\n",
    "    # The new cases are reduced by some percentage, which is attributed to deaths.\n",
    "    new_cases = np.diff(X_cml)\n",
    "    cumul_x = np.zeros(len(new_cases))\n",
    "    for i, x in enumerate(new_cases):\n",
    "        r = distribution_array*x*perc\n",
    "        min_indx = min(len(distribution_array), len(new_cases)-i)\n",
    "        r = r[:min_indx]\n",
    "        cumul_x[i:i+min_indx] += r\n",
    "\n",
    "    temp_recov = cumul_x.astype(\"int\")\n",
    "    temp_recov = np.concatenate([np.array([0]), temp_recov.cumsum()])\n",
    "    recovered = temp_recov.astype(\"int\")\n",
    "    \n",
    "    return X_cml, death, recovered"
   ]
  },
  {
   "cell_type": "code",
   "execution_count": null,
   "metadata": {},
   "outputs": [],
   "source": [
    "country_name = \"US\"\n",
    "start_indx = 30\n",
    "end_indx = 300\n",
    "percent = 0.95\n",
    "\n",
    "X_cml, death, recovered = create_data(country_name, start_indx, end_indx, distr_array, percent)"
   ]
  },
  {
   "cell_type": "code",
   "execution_count": null,
   "metadata": {},
   "outputs": [],
   "source": [
    "print(X_cml)\n",
    "print(death)\n",
    "print(recovered)"
   ]
  },
  {
   "cell_type": "markdown",
   "metadata": {},
   "source": [
    "## SIR model\n",
    "\n",
    "The rest of the code is directly taken by the Chen, Lu, Chang, Liu paper, with minimal modifications. The code can be found here: https://github.com/PingEnLu/Time-dependent_SIR_COVID-19"
   ]
  },
  {
   "cell_type": "code",
   "execution_count": null,
   "metadata": {},
   "outputs": [],
   "source": [
    "def data_spilt(data, orders, start):\n",
    "    x_train = np.empty((len(data) - start - orders, orders))\n",
    "    y_train = data[start + orders:]\n",
    "\n",
    "    for i in range(len(data) - start - orders):\n",
    "        x_train[i] = data[i + start:start + orders + i]\n",
    "\n",
    "    # Exclude the day (Feb. 12, 2020) of the change of the definition of confirmed cases in Hubei China.\n",
    "    #x_train = np.delete(x_train, np.s_[28 - (orders + 1) - start:28 - start], 0)\n",
    "    #y_train = np.delete(y_train, np.s_[28 - (orders + 1) - start:28 - start])\n",
    "\n",
    "    return x_train, y_train\n",
    "\n",
    "\n",
    "def ridge(x, y):\n",
    "    print('\\nStart searching good parameters for the task...')\n",
    "    parameters = {'alpha': np.arange(0, 0.100005, 0.000005).tolist(),\n",
    "                  \"tol\": [1e-8],\n",
    "                  'fit_intercept': [True, False],\n",
    "                  'normalize': [True, False]}\n",
    "\n",
    "    clf = GridSearchCV(Ridge(), parameters, n_jobs=-1, cv=5)\n",
    "    clf.fit(x, y)\n",
    "\n",
    "    print('\\nResults for the parameters grid search:')\n",
    "    print('Model:', clf.best_estimator_)\n",
    "    print('Score:', clf.best_score_)\n",
    "\n",
    "    return clf\n"
   ]
  },
  {
   "cell_type": "code",
   "execution_count": null,
   "metadata": {
    "scrolled": true
   },
   "outputs": [],
   "source": [
    "population = 11000000\n",
    "########## data preprocess ##########\n",
    "X = X_cml - recovered - death\n",
    "R = recovered + death\n",
    "\n",
    "n = np.array([population] * len(X), dtype=np.float64)\n",
    "\n",
    "S = n - X - R\n",
    "\n",
    "X_diff = np.array([X[:-1], X[1:]], dtype=np.float64).T\n",
    "R_diff = np.array([R[:-1], R[1:]], dtype=np.float64).T\n",
    "\n",
    "gamma = (R[1:] - R[:-1]) / X[:-1]\n",
    "beta = n[:-1] * (X[1:] - X[:-1] + R[1:] - R[:-1]) / (X[:-1] * (n[:-1] - X[:-1] - R[:-1]))\n",
    "R0 = beta / gamma\n",
    "\n",
    "########## Parameters for Ridge Regression ##########\n",
    "##### Orders of the two FIR filters in (12), (13) in the paper. #####\n",
    "orders_beta = 10\n",
    "orders_gamma = 5\n",
    "\n",
    "##### Select a starting day for the data training in the ridge regression. #####\n",
    "start_beta = 3\n",
    "start_gamma = 3\n",
    "\n",
    "########## Print Info ##########\n",
    "print(\"\\nThe latest transmission rate beta of SIR model:\", beta[-1])\n",
    "print(\"The latest recovering rate gamma of SIR model:\", gamma[-1])\n",
    "print(\"The latest basic reproduction number R0:\", R0[-1])\n",
    "\n",
    "########## Ridge Regression ##########\n",
    "##### Split the data to the training set and testing set #####\n",
    "x_beta, y_beta = data_spilt(beta, orders_beta, start_beta)\n",
    "x_gamma, y_gamma = data_spilt(gamma, orders_gamma, start_gamma)\n",
    "\n",
    "\n",
    "##### Searching good parameters #####\n",
    "#clf_beta = ridge(x_beta, y_beta)\n",
    "#clf_gamma = ridge(x_gamma, y_gamma)\n",
    "\n",
    "##### Training and Testing #####\n",
    "clf_beta = Ridge(alpha=0.003765, copy_X=True, fit_intercept=False, max_iter=None, normalize=True, random_state=None, solver='auto', tol=1e-08).fit(x_beta, y_beta)\n",
    "clf_gamma = Ridge(alpha=0.001675, copy_X=True, fit_intercept=False, max_iter=None,normalize=True, random_state=None, solver='auto', tol=1e-08).fit(x_gamma, y_gamma)\n",
    "\n",
    "beta_hat = clf_beta.predict(x_beta)\n",
    "gamma_hat = clf_gamma.predict(x_gamma)"
   ]
  },
  {
   "cell_type": "code",
   "execution_count": null,
   "metadata": {},
   "outputs": [],
   "source": [
    "plt.figure(1)\n",
    "plt.plot(y_beta, label=r'$\\beta (t)$')\n",
    "plt.plot(beta_hat, label=r'$\\hat{\\beta}(t)$')\n",
    "plt.legend()\n",
    "plt.show()\n",
    "\n",
    "plt.figure(2)\n",
    "plt.plot(y_gamma, label=r'$\\gamma (t)$')\n",
    "plt.plot(gamma_hat, label=r'$\\hat{\\gamma}(t)$')\n",
    "plt.legend()\n",
    "plt.show()"
   ]
  },
  {
   "cell_type": "code",
   "execution_count": null,
   "metadata": {},
   "outputs": [],
   "source": [
    "##### Parameters for the Time-dependent SIR model #####\n",
    "stop_X = 1 # stopping criteria\n",
    "stop_day = 350 # maximum iteration days (W in the paper)\n",
    "\n",
    "day_count = 0\n",
    "turning_point = 0\n",
    "\n",
    "S_predict = [S[-1]]\n",
    "X_predict = [X[-1]]\n",
    "R_predict = [R[-1]]\n",
    "\n",
    "predict_beta = np.array(beta[-orders_beta:]).tolist()\n",
    "predict_gamma = np.array(gamma[-orders_gamma:]).tolist()\n",
    "while (X_predict[-1] >= stop_X) and (day_count <= stop_day):\n",
    "    if predict_beta[-1] > predict_gamma[-1]:\n",
    "        turning_point += 1\n",
    "\n",
    "    next_beta = clf_beta.predict(np.asarray([predict_beta[-orders_beta:]]))[0]\n",
    "    next_gamma = clf_gamma.predict(np.asarray([predict_gamma[-orders_gamma:]]))[0]\n",
    "    #next_gamma = predict_gamma[-1]\n",
    "    if next_beta < 0:\n",
    "        next_beta = 0\n",
    "    if next_gamma < 0:\n",
    "        next_gamma = 0\n",
    "        \n",
    "    #print(\"beta\", next_beta)\n",
    "    #print(\"gamma\", next_gamma)\n",
    "\n",
    "    predict_beta.append(next_beta)\n",
    "    predict_gamma.append(next_gamma)\n",
    "\n",
    "    next_S = ((-predict_beta[-1] * S_predict[-1] *\n",
    "               X_predict[-1]) / n[-1]) + S_predict[-1]\n",
    "    next_X = ((predict_beta[-1] * S_predict[-1] * X_predict[-1]) /\n",
    "              n[-1]) - (predict_gamma[-1] * X_predict[-1]) + X_predict[-1]\n",
    "    next_R = (predict_gamma[-1] * X_predict[-1]) + R_predict[-1]\n",
    "\n",
    "    S_predict.append(next_S)\n",
    "    X_predict.append(next_X)\n",
    "    R_predict.append(next_R)\n",
    "\n",
    "    day_count += 1\n"
   ]
  },
  {
   "cell_type": "code",
   "execution_count": null,
   "metadata": {},
   "outputs": [],
   "source": [
    "plt.plot(range(len(predict_beta)), predict_beta, label=r'$\\hat{\\beta}(t)$')\n",
    "plt.legend()\n",
    "plt.show()\n",
    "\n",
    "plt.plot(range(len(predict_gamma)), predict_gamma, label=r'$\\hat{\\gamma}(t)$')\n",
    "plt.legend()\n",
    "plt.show()"
   ]
  },
  {
   "cell_type": "code",
   "execution_count": null,
   "metadata": {},
   "outputs": [],
   "source": [
    "########## Print Info ##########\n",
    "print('\\nConfirmed cases tomorrow:', np.rint(X_predict[1] + R_predict[1]))\n",
    "print('Infected persons tomorrow:', np.rint(X_predict[1]))\n",
    "print('Recovered + Death persons tomorrow:', np.rint(R_predict[1]))\n",
    "\n",
    "print('\\nEnd day:', day_count)\n",
    "print('Confirmed cases on the end day:', np.rint(X_predict[-2] + R_predict[-2]))\n",
    "\n",
    "print('\\nTuring point:', turning_point)"
   ]
  },
  {
   "cell_type": "code",
   "execution_count": null,
   "metadata": {},
   "outputs": [],
   "source": [
    "########## Plot the time evolution of the time-dependent SIR model ##########\n",
    "plt.figure(figsize=(15,10))\n",
    "plt.plot(range(len(X) - 1, len(X) - 1 + len(X_predict)), X_predict, '*-', label=r'$\\hat{X}(t)$', color='darkorange')\n",
    "plt.plot(range(len(X) - 1, len(X) - 1 + len(X_predict)), R_predict, '*-', label=r'$\\hat{R}(t)$', color='limegreen')\n",
    "plt.plot(range(len(X)), np.array(X)+np.array(R), 'o--', label='Total', color='cornflowerblue')\n",
    "plt.plot(range(len(X) - 1, len(X) - 1 + len(X_predict)), np.array(X_predict) + np.array(R_predict), \\\n",
    "         '*-', label='Total predicted', color='blue')\n",
    "plt.plot(range(len(X)), X, 'o--', label=r'$X(t)$', color='chocolate')\n",
    "plt.plot(range(len(X)), R, 'o--', label=r'$R(t)$', color='darkgreen')\n",
    "plt.xlabel('Day')\n",
    "#plt.ylabel('Person')\n",
    "plt.title('Time evolution of the time-dependent SIR model.')\n",
    "\n",
    "plt.legend()\n",
    "\n",
    "plt.show()"
   ]
  },
  {
   "cell_type": "code",
   "execution_count": null,
   "metadata": {
    "scrolled": true
   },
   "outputs": [],
   "source": [
    "print(int(R_predict[-1]))"
   ]
  },
  {
   "cell_type": "code",
   "execution_count": null,
   "metadata": {},
   "outputs": [],
   "source": []
  },
  {
   "cell_type": "code",
   "execution_count": null,
   "metadata": {},
   "outputs": [],
   "source": []
  }
 ],
 "metadata": {
  "kernelspec": {
   "display_name": "Python 3",
   "language": "python",
   "name": "python3"
  },
  "language_info": {
   "codemirror_mode": {
    "name": "ipython",
    "version": 3
   },
   "file_extension": ".py",
   "mimetype": "text/x-python",
   "name": "python",
   "nbconvert_exporter": "python",
   "pygments_lexer": "ipython3",
   "version": "3.7.4"
  }
 },
 "nbformat": 4,
 "nbformat_minor": 4
}
